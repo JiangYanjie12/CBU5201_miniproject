{
 "metadata": {
  "kernelspec": {
   "name": "python3",
   "display_name": "Python 3 (ipykernel)",
   "language": "python"
  },
  "language_info": {
   "codemirror_mode": {
    "name": "python",
    "version": 3
   },
   "file_extension": ".py",
   "mimetype": "text/x-python",
   "name": "python",
   "nbconvert_exporter": "python",
   "pygments_lexer": "ipython3",
   "version": "3.8"
  },
  "colab": {
   "provenance": []
  }
 },
 "nbformat_minor": 4,
 "nbformat": 4,
 "cells": [
  {
   "cell_type": "markdown",
   "source": "# [CBU5201_miniproject]",
   "metadata": {}
  },
  {
   "cell_type": "markdown",
   "source": [
    "# 1 Author\n",
    "\n",
    "**Student Name**:  Jiang  Yanjie\n",
    "\n",
    "\n",
    "\n"
   ],
   "metadata": {
    "id": "ZaGn4ICrfqXZ"
   }
  },
  {
   "cell_type": "markdown",
   "source": [
    "# 2 Problem formulation\n",
    "\n",
    "## The machine learning problem\n",
    "\n",
    "The problem addressed in this project is to classify whether a narrated story in an audio recording is true or false based on extracted audio features. Given the complexity of human speech and its subtle variations, this task involves analyzing acoustic signals to detect patterns that might indicate deception.\n",
    "\n",
    "## The reasons why this problem is interesting\n",
    "\n",
    "Deception detection has numerous real-world applications, including law enforcement, interviews, and fraud prevention. Unlike traditional approaches that rely on visual or physiological cues, this project focuses entirely on audio analysis, making it a unique challenge that blends speech processing and machine learning.\n",
    "\n",
    "The task is particularly interesting because human speech patterns can be ambiguous and context-dependent, making it difficult to distinguish truth from deception based solely on sound. This project pushes the boundaries of speech signal analysis by requiring us to identify subtle cues such as tone, pitch, and rhythm to infer meaning.\n",
    "\n",
    "Moreover, the small dataset size forces us to carefully engineer features and optimize models, adding another layer of complexity."
   ],
   "metadata": {
    "id": "o38VQkcdKd6k"
   }
  },
  {
   "cell_type": "markdown",
   "source": [
    "# 3 Methodology\n",
    "\n",
    "## Training Task\n",
    "\n",
    "The training task involves building a machine learning model that can learn patterns from audio features to classify whether a story is true or false. The model is trained using a dataset of labeled audio files, where each file is associated with a label indicating its truthfulness.\n",
    "\n",
    "## Validation task\n",
    "\n",
    "The model's performance will be validated on a separate test set using training accuracy, testing accuracy, confusion matrix, confusion matrix visualization, and classification report.\n",
    "\n",
    "## How model performance is defined\n",
    "\n",
    "We measure its performance with the following metrics:\n",
    "\n",
    "Training Accuracy: Proportion of correctly classified training samples.\n",
    "\n",
    "Testing Accuracy: Proportion of correctly classified testing samples.\n",
    "\n",
    "Classification Report: Provides metrics such as precision, recall, F1-score, and support to assess the model's performance for each class.\n",
    "\n",
    "Confusion Matrix: Provides a detailed breakdown of the predictions, showing how many samples were correctly or incorrectly classified.\n",
    "\n",
    "Confusion Matrix Visualization: The confusion matrix is visualized as a heatmap to clearly show prediction results and errors."
   ],
   "metadata": {
    "id": "bPTSuaB9L2jU"
   }
  },
  {
   "cell_type": "markdown",
   "source": [
    "# 4 Implemented ML prediction pipelines\n",
    "\n",
    "The implemented ML prediction pipeline is designed to classify narrated stories in audio recordings as either True Stories or Deceptive Stories. This pipeline processes raw audio data, extracts meaningful features, trains a machine learning model, and evaluates its performance using various metrics.\n",
    "\n",
    "The pipeline consists of the following stages:\n",
    "\n",
    "Transformation Stage - Extract and preprocess audio features.\n",
    "\n",
    "Model Stage - Train a Decision Tree Classifier to learn patterns in the data.\n",
    "\n",
    "Ensemble Stage - Evaluate an ensemble approach (Random Forest) to improve prediction performance.\n",
    "\n",
    "This structured pipeline takes raw audio files as input and outputs predicted labels along with performance metrics, including training accuracy, testing accuracy, classification report, and a confusion matrix. Each stage is described in detail below.\n"
   ],
   "metadata": {
    "id": "N3BwrtEdLDit"
   }
  },
  {
   "metadata": {},
   "cell_type": "markdown",
   "source": [
    "## 4.1 Transformation stage\n",
    "\n",
    "The transformation stage prepares data for machine learning by extracting meaningful numerical features from the audio signals and encoding metadata. These features capture patterns in speech related to pitch, tone, energy, and frequency variations that might indicate truthfulness or deception.\n",
    "\n",
    "## Input:\n",
    "\n",
    "1. Audio files (.wav): Provide the raw audio signals.\n",
    "\n",
    "2. Metadata (stories_attributes.csv): Language: Encoded as a numerical feature. Story Type: Provides classification labels for model training.\n",
    "\n",
    "## Process:\n",
    "\n",
    "1. Read metadata and load audio files.\n",
    "\n",
    "2. Add language encoding.\n",
    "\n",
    "3. Extract features from audio files and combine features:\n",
    "\n",
    "Statistical Features (mean and std): Summarize signal characteristics.\n",
    "\n",
    "MFCCs: Capture the frequency content and speech patterns.\n",
    "\n",
    "MFCC Deltas: Measure changes in MFCCs over time, capturing dynamics.\n",
    "\n",
    "Spectral Centroid: Indicates the frequency balance of the signal.\n",
    "\n",
    "Zero-Crossing Rate (ZCR): Detects noisiness and abrupt changes.\n",
    "\n",
    "RMS Energy: Measures signal energy, related to vocal strength.\n",
    "\n",
    "Spectral Contrast: Highlights tonal variations within the audio.\n",
    "\n",
    "4. Convert to numpy arrays and encode Labels.\n",
    "\n",
    "5. Data splitting and normalization:\n",
    "Split the data into 80% training and 20% testing sets to ensure proper evaluation. Standardize features to eliminate scale differences across variables.\n",
    "\n",
    "## Output\n",
    "\n",
    "1. Feature Matrix (NumPy array).\n",
    "\n",
    "2. Labels (NumPy array): Encoded as 0 (Deceptive) or 1 (True).\n",
    "\n",
    "3. Train-Test Splits: X_train, X_test, y_train, y_test (all in NumPy array format) ready for model input.\n",
    "\n",
    "## Why This Transformation Stage?\n",
    "\n",
    "1. Raw Audio is Unstructured Data:\n",
    "\n",
    "Audio files are continuous signals that lack a clear structure for machine learning algorithms to process.\n",
    "Extracting numerical features converts this unstructured data into a structured feature matrix, making it suitable for classification tasks.\n",
    "\n",
    "2. Capturing Speech Patterns:\n",
    "\n",
    "Deceptive and truthful speech may differ in terms of pitch, tone, energy, pauses, or rhythm.\n",
    "The chosen features (MFCCs, ZCR, Spectral Centroid, etc.) are designed to capture these patterns and provide the model with meaningful input for classification.\n",
    "\n",
    "3. Handling Linguistic Differences:\n",
    "\n",
    "Language might influence speech patterns, such as intonation or hesitation.\n",
    "Including language encoding as a feature allows the model to consider these variations, potentially improving classification performance.\n",
    "\n",
    "4. Balancing Simplicity and Complexity:\n",
    "\n",
    "The features selected (e.g., MFCCs) are widely used in speech processing tasks due to their ability to capture both static and dynamic information.\n",
    "Combining basic statistical features (mean, standard deviation) with spectral and energy-based features ensures the model receives a comprehensive representation of the audio.\n",
    "\n",
    "5. Scalability and Flexibility:\n",
    "\n",
    "The transformation process is scalable that new features can be added without changing the pipeline structure.\n",
    "It supports multi-language datasets, allowing the pipeline to handle future expansions easily."
   ]
  },
  {
   "cell_type": "markdown",
   "source": [
    "## 4.2 Model stage\n",
    "\n",
    "Train a Decision Tree Classifier to classify stories based on extracted features and evaluates its performance using various metrics, including training accuracy, testing accuracy, classification report, a confusion matrix and confusion matrix heatmap.\n",
    "\n",
    "## Input:\n",
    "\n",
    "X_train, X_test, y_train, y_test (all in NumPy array format).\n",
    "\n",
    "## Process:\n",
    "\n",
    "1. Train Decision Tree Classifier.\n",
    "\n",
    "2. Predictions for test samples and various metrics, including accuracy, classification report, a confusion matrix and confusion matrix heatmap.\n",
    "\n",
    "## Output:\n",
    "\n",
    "1. Predicted Labels (NumPy array): Predictions for the test samples.\n",
    "\n",
    "2. Performance Metrics:\n",
    "\n",
    "Training Accuracy (float): Proportion of correctly classified training samples.\n",
    "\n",
    "Testing Accuracy (float): Proportion of correctly classified testing samples.\n",
    "\n",
    "Classification Report (String Table): Tabular text output summarizing precision, recall, and F1-scores.\n",
    "\n",
    "Confusion Matrix (NumPy array): 2D array showing true positives, false positives, etc.\n",
    "\n",
    "## Why Decision Tree?\n",
    "\n",
    "1. Interpretability\n",
    "\n",
    "Decision Trees are highly interpretable, making them easy to understand and explain. Each decision is represented as an \"if-then\" rule, which allows us to visualize the decision-making process through a tree structure. This structure makes it clear how specific features, such as MFCC values or Language Encoding, influence predictions, and it helps identify the most important features by observing the splits in the tree. This level of interpretability is particularly useful in projects like this, where understanding why a story is classified as true or deceptive is critical.\n",
    "\n",
    "2. Handles Small Datasets Effectively\n",
    "\n",
    "Decision Trees work well with small datasets, like the 100 samples in this project, as they do not rely on assumptions about data distribution and can handle mixed feature types, such as numerical and categorical data."
   ],
   "metadata": {
    "id": "0F5_kI95LuZ2"
   }
  },
  {
   "cell_type": "markdown",
   "source": [
    "## 4.3 Ensemble stage\n",
    "\n",
    "Improve performance using a Random Forest Classifier, which combines multiple decision trees.\n",
    "\n",
    "## Input:\n",
    "\n",
    "X_train, X_test, y_train, y_test (all in NumPy array format).\n",
    "\n",
    "## Process:\n",
    "1. Train Random Forest Classifier.\n",
    "\n",
    "2. Evaluate performance.\n",
    "\n",
    "## Output:\n",
    "\n",
    "1. Predicted Labels (NumPy array): Predictions for the test samples.\n",
    "\n",
    "2. Performance Metrics:\n",
    "\n",
    "Training Accuracy (float): Proportion of correctly classified training samples.\n",
    "\n",
    "Testing Accuracy (float): Proportion of correctly classified testing samples.\n",
    "\n",
    "Classification Report (String Table): Tabular text output summarizing precision, recall, and F1-scores.\n",
    "\n",
    "Confusion Matrix (NumPy array): 2D array showing true positives, false positives, etc.\n",
    "\n",
    "## Why Random Forest?\n",
    "\n",
    "1. Flexibility:\n",
    "\n",
    "One key advantage of Random Forest is its flexibility in handling both numerical and categorical features, which is useful in tasks like audio classification where features might come from diverse domains. Additionally, it provides built-in insights into feature importance, helping to identify which features contribute the most to the predictions, allowing for further optimization and refinement of the feature set.\n",
    "\n",
    "2. Robust to noise:\n",
    "\n",
    "Random Forest is also robust to noise in the data due to its ensemble nature, which aggregates multiple models to reduce the influence of outliers. It offers balanced performance across classes, making it well-suited for datasets with slight class imbalances, as it avoids favoring one class disproportionately."
   ],
   "metadata": {}
  },
  {
   "cell_type": "markdown",
   "source": [
    "# 5 Dataset\n",
    "\n",
    "This section describes the datasets used for building and evaluating the machine learning models. The datasets are derived from the MLEnd Deception Dataset, which includes audio recordings and their associated metadata. The datasets are split into training and testing subsets to ensure the model is trained and evaluated effectively. Below, the creation process, structure, and potential limitations of the datasets are outlined.\n",
    "\n",
    "## 5.1 Dataset Description\n",
    "\n",
    "The MLEnd Deception Dataset consists of:\n",
    "\n",
    "Audio Files (.wav): These are recordings of stories that are either true or deceptive. The audio files are 3-5 minutes in duration and provide the raw input for feature extraction.\n",
    "\n",
    "Metadata (CSV File): This contains:\n",
    "\n",
    "Filename: Links the metadata to the audio file.\n",
    "\n",
    "Language: Specifies the language of the audio recording (e.g., English, Chinese).\n",
    "\n",
    "Story Type: Indicates whether the story is a \"True Story\" or a \"Deceptive Story.\"\n",
    "\n",
    "From these, features are extracted (e.g., MFCCs, ZCR, Spectral Centroid) and combined with the metadata (e.g., Language Encoding). The resulting feature matrix and labels are used to train and evaluate the models."
   ],
   "metadata": {
    "id": "HZQPxztuL9AW"
   }
  },
  {
   "metadata": {
    "ExecuteTime": {
     "end_time": "2024-12-28T15:51:33.067810Z",
     "start_time": "2024-12-28T15:49:28.130313Z"
    }
   },
   "cell_type": "code",
   "source": [
    "import pandas as pd\n",
    "import sklearn\n",
    "import numpy as np\n",
    "import os\n",
    "import soundfile as sf\n",
    "import librosa.feature\n",
    "\n",
    "# Load Dataset\n",
    "csv_path = \"D:/edge/Deception-main/Deception-main/CBU0521DD_stories_attributes.csv\"\n",
    "audio_folder = \"D:/edge/Deception-main/Deception-main/CBU0521DD_stories/\"\n",
    "data = pd.read_csv(csv_path)\n",
    "\n",
    "# Display dataset information\n",
    "data.info()\n",
    "print(data.head())\n",
    "\n",
    "# Rename columns for consistency\n",
    "data.columns = [\"filename\", \"Language\", \"Story_type\"]\n",
    "\n",
    "# Encode Language Feature\n",
    "language_encoder = sklearn.preprocessing.LabelEncoder()\n",
    "languages = language_encoder.fit_transform(data['Language'])\n",
    "\n",
    "# Extract Features from Audio Files\n",
    "features = []\n",
    "labels = []\n",
    "\n",
    "for index, row in data.iterrows():\n",
    "    file_path = os.path.join(audio_folder, row['filename'])\n",
    "    label = row['Story_type']\n",
    "    try:\n",
    "        # Load audio file using soundfile for basic statistics\n",
    "        signal, sr = sf.read(file_path)\n",
    "        mean = np.mean(signal)\n",
    "        std = np.std(signal)\n",
    "\n",
    "        # Load audio again using librosa for more detailed features\n",
    "        y, sr = librosa.load(file_path, sr=None)\n",
    "        mfccs = np.mean(librosa.feature.mfcc(y=y, sr=sr, n_mfcc=13).T, axis=0)\n",
    "        mfcc_delta = np.mean(librosa.feature.delta(mfccs).T, axis=0)\n",
    "        mfcc_delta2 = np.mean(librosa.feature.delta(mfccs, order=2).T, axis=0)\n",
    "        centroid = np.mean(librosa.feature.spectral_centroid(y=y, sr=sr).T, axis=0)\n",
    "        zcr = np.mean(librosa.feature.zero_crossing_rate(y).T, axis=0)\n",
    "        rms = np.mean(librosa.feature.rms(y=y).T, axis=0)\n",
    "        contrast = np.mean(librosa.feature.spectral_contrast(y=y, sr=sr).T, axis=0)\n",
    "\n",
    "        # Combine simple and complex features\n",
    "        feature = np.hstack([mean, std, mfccs, mfcc_delta, mfcc_delta2, centroid, zcr, rms, contrast])\n",
    "        feature = np.hstack([feature, languages[index]])\n",
    "\n",
    "        features.append(feature)\n",
    "        labels.append(label)\n",
    "    except Exception as e:\n",
    "        print(f\"Error processing {file_path}: {e}\")\n",
    "\n",
    "# Convert to numpy arrays\n",
    "features = np.array(features)\n",
    "labels = np.array(labels)\n",
    "\n",
    "# Encode Labels\n",
    "encoder = sklearn.preprocessing.LabelEncoder()\n",
    "labels = encoder.fit_transform(labels)\n"
   ],
   "outputs": [
    {
     "name": "stdout",
     "output_type": "stream",
     "text": [
      "<class 'pandas.core.frame.DataFrame'>\n",
      "RangeIndex: 100 entries, 0 to 99\n",
      "Data columns (total 3 columns):\n",
      " #   Column      Non-Null Count  Dtype \n",
      "---  ------      --------------  ----- \n",
      " 0   filename    100 non-null    object\n",
      " 1   Language    100 non-null    object\n",
      " 2   Story_type  100 non-null    object\n",
      "dtypes: object(3)\n",
      "memory usage: 2.5+ KB\n",
      "    filename Language  Story_type\n",
      "0  00001.wav  Chinese  True Story\n",
      "1  00002.wav  Chinese  True Story\n",
      "2  00003.wav  Chinese  True Story\n",
      "3  00004.wav  Chinese  True Story\n",
      "4  00005.wav  Chinese  True Story\n"
     ]
    }
   ],
   "execution_count": 1
  },
  {
   "metadata": {},
   "cell_type": "markdown",
   "source": [
    "# 5.2 Dataset Splitting\n",
    "To train and evaluate the model, the dataset is split into two subsets:\n",
    "\n",
    "1. Training Dataset: Used for learning the patterns and building the model.\n",
    "\n",
    "2. Testing Dataset: Used for evaluating the model's performance on unseen data.\n",
    "\n",
    "Splitting Strategy:\n",
    "\n",
    "1. Train-Test Split Ratio: The dataset is split into 80% training data and 20% testing data.\n",
    "\n",
    "2. Random Sampling: To ensure the samples are independent and identically distributed (IID), the split is performed randomly using the train_test_split function from scikit-learn.\n"
   ]
  },
  {
   "metadata": {
    "ExecuteTime": {
     "end_time": "2024-12-28T15:51:33.151390Z",
     "start_time": "2024-12-28T15:51:33.091997Z"
    }
   },
   "cell_type": "code",
   "source": [
    "from sklearn.model_selection import train_test_split\n",
    "\n",
    "# Splitting the data into training and testing sets\n",
    "X_train, X_test, y_train, y_test = train_test_split(features, labels, test_size=0.2, random_state=42)\n",
    "\n",
    "# Normalize the features\n",
    "scaler = sklearn.preprocessing.StandardScaler()\n",
    "X_train = scaler.fit_transform(X_train)\n",
    "X_test = scaler.transform(X_test)\n",
    "\n",
    "# Checking the distribution of classes in training and testing sets\n",
    "print(f\"Training Set: True Stories: {sum(y_train == 1)}, Deceptive Stories: {sum(y_train == 0)}\")\n",
    "print(f\"Testing Set: True Stories: {sum(y_test == 1)}, Deceptive Stories: {sum(y_test == 0)}\")\n"
   ],
   "outputs": [
    {
     "name": "stdout",
     "output_type": "stream",
     "text": [
      "Training Set: True Stories: 39, Deceptive Stories: 41\n",
      "Testing Set: True Stories: 11, Deceptive Stories: 9\n"
     ]
    }
   ],
   "execution_count": 2
  },
  {
   "metadata": {},
   "cell_type": "markdown",
   "source": [
    "# 5.3 Dataset Visualisation\n",
    "\n",
    "To better understand the dataset and its structure, the following visualization is created:\n",
    "\n",
    "Class Distribution: Shows the proportion of \"True\" and \"Deceptive\" stories.\n"
   ]
  },
  {
   "metadata": {
    "ExecuteTime": {
     "end_time": "2024-12-28T15:51:33.399778Z",
     "start_time": "2024-12-28T15:51:33.323876Z"
    }
   },
   "cell_type": "code",
   "source": [
    "import matplotlib.pyplot as plt\n",
    "import seaborn as sns\n",
    "\n",
    "# Visualize class distribution\n",
    "sns.countplot(x=labels, order=[1, 0])\n",
    "plt.xlabel(\"Story Type\")\n",
    "plt.ylabel(\"Count\")\n",
    "plt.title(\"Class Distribution (True vs. Deceptive)\")\n",
    "plt.xticks(ticks=[0, 1], labels=[\"Deceptive\", \"True\"])\n",
    "plt.show()\n"
   ],
   "outputs": [
    {
     "data": {
      "text/plain": [
       "<Figure size 640x480 with 1 Axes>"
      ],
      "image/png": "[encoded data removed]"
     },
     "metadata": {},
     "output_type": "display_data"
    }
   ],
   "execution_count": 3
  },
  {
   "metadata": {},
   "cell_type": "markdown",
   "source": [
    "# 5.4 Dataset Limitations\n",
    "\n",
    "While the dataset is well-structured and supports the objectives of this project, the following limitations should be noted:\n",
    "\n",
    "1. Small Dataset Size:\n",
    "\n",
    "With only 100 samples, the dataset may not capture the full variability of storytelling styles and deception patterns. This can limit the model's ability to generalize to new data.\n",
    "\n",
    "2. Feature Extraction Variability:\n",
    "\n",
    "The quality of extracted features can vary based on the audio quality and recording conditions, potentially introducing noise into the dataset.\n"
   ]
  },
  {
   "cell_type": "markdown",
   "source": [
    "# 6 Experiments and results\n",
    "\n",
    "This section presents the experiments conducted, including the evaluation of the models' performance based on the features extracted and the dataset described earlier. Results are analyzed to assess the effectiveness of the models in distinguishing between True Stories and Deceptive Stories.\n",
    "\n",
    "## 6.1 Experimental Setup\n",
    "**Models Tested:**\n",
    "\n",
    "1. Decision Tree Classifier: A baseline model used for its interpretability and effectiveness with small datasets.\n",
    "\n",
    "2. Random Forest Classifier (Ensemble): An ensemble method chosen to improve performance.\n",
    "\n",
    "**Evaluation Metrics:**\n",
    "\n",
    "1. Training Accuracy: Proportion of correctly classified training samples.\n",
    "\n",
    "2. Testing Accuracy: Proportion of correctly classified testing samples.\n",
    "\n",
    "3. Classification Report: Provides metrics such as precision, recall, F1-score, and support to assess the model's performance for each class.\n",
    "\n",
    "4. Confusion Matrix: Provides a detailed breakdown of the predictions, showing how many samples were correctly or incorrectly classified.\n",
    "\n",
    "5. Confusion Matrix Visualization: The confusion matrix is visualized as a heatmap to clearly show prediction results and errors.\n",
    "\n",
    "**Dataset Split:**\n",
    "\n",
    "1. 80% training set and 20% testing set, stratified to maintain class balance.\n",
    "\n",
    "2. Random state set to 42 for reproducibility.\n"
   ],
   "metadata": {
    "id": "2qf7GN1aeXJI"
   }
  },
  {
   "metadata": {},
   "cell_type": "markdown",
   "source": "## 6.2 Results of Decision Tree Classifier"
  },
  {
   "metadata": {
    "ExecuteTime": {
     "end_time": "2024-12-28T15:51:33.562881Z",
     "start_time": "2024-12-28T15:51:33.411476Z"
    }
   },
   "cell_type": "code",
   "source": [
    "from sklearn.tree import DecisionTreeClassifier\n",
    "from sklearn.metrics import confusion_matrix, accuracy_score, classification_report\n",
    "\n",
    "# Train Decision Tree Classifier\n",
    "clf = DecisionTreeClassifier(max_depth=15, min_samples_split=4, min_samples_leaf=4, random_state=42)\n",
    "\n",
    "# Fit the model on the training data\n",
    "clf.fit(X_train, y_train)\n",
    "\n",
    "# Check training accuracy\n",
    "y_train_pred = clf.predict(X_train)\n",
    "train_accuracy = accuracy_score(y_train, y_train_pred)\n",
    "print(f\"Training Accuracy: {train_accuracy * 100:.2f}%\")\n",
    "\n",
    "#  Evaluate Model\n",
    "y_pred = clf.predict(X_test)\n",
    "\n",
    "# Calculate testing accuracy\n",
    "accuracy = accuracy_score(y_test, y_pred)\n",
    "print(f\"Testing Accuracy: {accuracy * 100:.2f}%\")\n",
    "\n",
    "# Generate Classification Report\n",
    "print(\"Classification Report (Testing Set):\")\n",
    "print(classification_report(y_test, y_pred))\n",
    "\n",
    "# Confusion Matrix\n",
    "cm = confusion_matrix(y_test, y_pred)\n",
    "print(\"Confusion Matrix (Testing Set):\")\n",
    "print(cm)\n",
    "\n",
    "# Confusion Matrix Heatmap\n",
    "plt.figure(figsize=(8, 6))\n",
    "sns.heatmap(cm, annot=True, fmt='d', cmap='Blues', xticklabels=encoder.classes_, yticklabels=encoder.classes_)\n",
    "plt.xlabel('Predicted Labels')\n",
    "plt.ylabel('True Labels')\n",
    "plt.title('Confusion Matrix Heatmap (Testing Set)')\n",
    "plt.show()"
   ],
   "outputs": [
    {
     "name": "stdout",
     "output_type": "stream",
     "text": [
      "Training Accuracy: 90.00%\n",
      "Testing Accuracy: 70.00%\n",
      "Classification Report (Testing Set):\n",
      "              precision    recall  f1-score   support\n",
      "\n",
      "           0       0.71      0.56      0.62         9\n",
      "           1       0.69      0.82      0.75        11\n",
      "\n",
      "    accuracy                           0.70        20\n",
      "   macro avg       0.70      0.69      0.69        20\n",
      "weighted avg       0.70      0.70      0.69        20\n",
      "\n",
      "Confusion Matrix (Testing Set):\n",
      "[[5 4]\n",
      " [2 9]]\n"
     ]
    },
    {
     "data": {
      "text/plain": [
       "<Figure size 800x600 with 2 Axes>"
      ],
      "image/png": "[encoded data removed]"
     },
     "metadata": {},
     "output_type": "display_data"
    }
   ],
   "execution_count": 4
  },
  {
   "metadata": {},
   "cell_type": "markdown",
   "source": [
    "## Analysis:\n",
    "\n",
    "1. Training Accuracy: 90.00%\n",
    "\n",
    "The Decision Tree achieves a Training Accuracy of 90.00%, suggesting that it has learned the patterns in the training data well. However, the high training accuracy compared to testing accuracy (70.00%) indicates potential overfitting, where the model performs well on the training set but struggles to generalize to unseen data.\n",
    "\n",
    "2. Testing Accuracy: 70.00%\n",
    "\n",
    "The Decision Tree achieves a Testing Accuracy of 70.00%. This indicates that the Decision Tree is good at adapting to the current dataset and capturing its patterns, though the overfitting risk should be noted.\n",
    "\n",
    "3. Classification Report (Testing Set)\n",
    "\n",
    "**Precision:**\n",
    "\n",
    "For Deceptive Stories (0): The precision is 71%, meaning that 29% of the samples predicted as deceptive were actually true.\n",
    "\n",
    "For True Stories (1): The precision of 69% is slightly lower but still balanced.\n",
    "\n",
    "**Recall:**\n",
    "\n",
    "Deceptive Stories (0): The recall is 56%, indicating that 44% of the actual deceptive stories were misclassified as true stories.\n",
    "\n",
    "True Stories (1): The recall is 82%, which means the model performs better at identifying true stories correctly.\n",
    "\n",
    "**F1-Score:**\n",
    "\n",
    "The F1-scores (0.62 and 0.75) reflect a reasonable balance between precision and recall, though performance is stronger for True Stories than for Deceptive Stories.\n",
    "\n",
    "**Macro Averages:**\n",
    "\n",
    "Precision (0.70): The average precision across both classes is balanced, showing the model performs reasonably well for both deceptive and true stories.\n",
    "\n",
    "Recall (0.69): The recall indicates that the model is slightly better at identifying true stories than deceptive ones, as reflected in the imbalance between the two classes.\n",
    "\n",
    "F1-Score (0.69): The F1-score is slightly lower than precision due to the model's weaker performance in recalling deceptive stories (Class 0).\n",
    "\n",
    "**Weighted Average:**\n",
    "\n",
    "The weighted average takes into account the support (number of samples) for each class.\n",
    "\n",
    "Precision (0.70): Similar to the macro average, the weighted precision reflects the balanced class distribution and the model’s consistent predictions.\n",
    "\n",
    "Recall (0.70): Weighted recall aligns with accuracy, indicating the model correctly identifies 70% of all test samples.\n",
    "\n",
    "F1-Score (0.69): The weighted F1-score is slightly lower due to the impact of Class 0’s lower recall (56%), which affects overall performance.\n",
    "\n",
    "4. Confusion Matrix (Testing Set)\n",
    "\n",
    "The model correctly classified 5 deceptive stories as deceptive, but misclassified 4 deceptive stories as true.\n",
    "\n",
    "The model correctly classified 9 true stories as true, but misclassified 2 true stories as deceptive.\n",
    "\n",
    "The model tends to misclassify deceptive stories as true stories more often than the reverse. This suggests the features used may capture characteristics more aligned with truthful speech patterns, making deceptive stories harder to identify.\n"
   ]
  },
  {
   "metadata": {},
   "cell_type": "markdown",
   "source": "## 6.3 Results of Random Forest Classifier (Ensemble)"
  },
  {
   "metadata": {
    "ExecuteTime": {
     "end_time": "2024-12-28T15:51:33.705371Z",
     "start_time": "2024-12-28T15:51:33.589893Z"
    }
   },
   "cell_type": "code",
   "source": [
    "from sklearn.ensemble import RandomForestClassifier\n",
    "\n",
    "# Train Random Forest model\n",
    "ensemble_clf = RandomForestClassifier(n_estimators=7, max_depth=15, min_samples_split=4, min_samples_leaf=4, random_state=42)\n",
    "ensemble_clf.fit(X_train, y_train)\n",
    "\n",
    "# Check training accuracy\n",
    "y_train_pred_ensemble = ensemble_clf.predict(X_train)\n",
    "train_accuracy_ensemble = accuracy_score(y_train, y_train_pred_ensemble)\n",
    "print(f\"Training Accuracy: {train_accuracy_ensemble * 100:.2f}%\")\n",
    "\n",
    "# Make predictions\n",
    "y_pred_ensemble = ensemble_clf.predict(X_test)\n",
    "\n",
    "# Evaluation\n",
    "accuracy_ensemble = accuracy_score(y_test, y_pred_ensemble)\n",
    "print(f\"Testing Accuracy: {accuracy_ensemble * 100:.2f}%\")\n",
    "print(\"Classification Report (Testing Set):\")\n",
    "print(classification_report(y_test, y_pred_ensemble))\n",
    "\n",
    "# Confusion Matrix\n",
    "cm_ensemble = confusion_matrix(y_test, y_pred_ensemble)\n",
    "print(\"Confusion Matrix (Testing Set):\")\n",
    "print(cm_ensemble)\n",
    "\n",
    "# Confusion Matrix Heatmap\n",
    "plt.figure(figsize=(8, 6))\n",
    "sns.heatmap(cm_ensemble, annot=True, fmt='d', cmap='Greens', xticklabels=encoder.classes_, yticklabels=encoder.classes_)\n",
    "plt.xlabel('Predicted Labels')\n",
    "plt.ylabel('True Labels')\n",
    "plt.title('Confusion Matrix Heatmap (Testing Set)')\n",
    "plt.show()\n"
   ],
   "outputs": [
    {
     "name": "stdout",
     "output_type": "stream",
     "text": [
      "Training Accuracy: 91.25%\n",
      "Testing Accuracy: 65.00%\n",
      "Classification Report (Testing Set):\n",
      "              precision    recall  f1-score   support\n",
      "\n",
      "           0       0.60      0.67      0.63         9\n",
      "           1       0.70      0.64      0.67        11\n",
      "\n",
      "    accuracy                           0.65        20\n",
      "   macro avg       0.65      0.65      0.65        20\n",
      "weighted avg       0.65      0.65      0.65        20\n",
      "\n",
      "Confusion Matrix (Testing Set):\n",
      "[[6 3]\n",
      " [4 7]]\n"
     ]
    },
    {
     "data": {
      "text/plain": [
       "<Figure size 800x600 with 2 Axes>"
      ],
      "image/png": "[encoded data removed]"
     },
     "metadata": {},
     "output_type": "display_data"
    }
   ],
   "execution_count": 5
  },
  {
   "metadata": {},
   "cell_type": "markdown",
   "source": [
    "## Analysis\n",
    "\n",
    "1. Training Accuracy: 91.25%\n",
    "\n",
    "The training accuracy of 91.25% indicates that the Random Forest model has learned the patterns in the training data effectively. It outperforms the Decision Tree model, which achieved a training accuracy of 90.00%. This higher training accuracy suggests that the Random Forest, by combining multiple decision trees, might be better at capturing complex patterns in the training data. However, this could also indicate potential overfitting, as the model might have become too complex, despite the randomization techniques used by Random Forest.\n",
    "\n",
    "2. Testing Accuracy: 65.00%\n",
    "\n",
    "The testing accuracy of 65.00% is lower than the training accuracy, suggesting overfitting, similar to the Decision Tree's performance (testing accuracy of 70.00%). The Random Forest model, despite being an ensemble of multiple trees, still struggles to generalize well to unseen data. The drop in testing accuracy compared to training accuracy is indicative of the model fitting too closely to the training data, capturing noise or specific patterns that do not hold for the test data. In contrast, the Decision Tree, with its simpler structure, performs better on the test data, though it still faces overfitting.\n",
    "\n",
    "3. Classification Report (Testing Set)\n",
    "\n",
    "**Precision:**\n",
    "\n",
    "For Deceptive Stories (0): Precision is 60%, meaning that 40% of the samples predicted as deceptive were actually true. This lower precision indicates that the Random Forest model is less reliable in predicting deceptive stories, as compared to the Decision Tree's precision of 71%.\n",
    "\n",
    "For True Stories (1): Precision is 70%, meaning that 30% of the samples predicted as true were actually deceptive.\n",
    "\n",
    "**Recall:**\n",
    "\n",
    "For Deceptive Stories (0): Recall is 67%, meaning the model correctly identified 67% of actual deceptive stories, while 33% were misclassified as true.\n",
    "\n",
    "For True Stories (1): Recall is 64%, showing that 36% of true stories were misclassified as deceptive.\n",
    "\n",
    "**F1-Score:**\n",
    "\n",
    "The F1-scores for Class 0 (0.63) and Class 1 (0.67) indicate a slightly better performance for true stories.\n",
    "\n",
    "**Macro Averages:**\n",
    "\n",
    "Macro Average (0.65): Reflects equal weighting of both classes and indicates balanced performance across deceptive and true stories.\n",
    "\n",
    "**Weighted Average:**\n",
    "\n",
    "Weighted Average (0.65): Accounts for the slightly larger proportion of true stories in the dataset and aligns with the macro average, reflecting no significant bias toward either class.\n",
    "\n",
    "4. Confusion Matrix (Testing Set)\n",
    "\n",
    "The model correctly classified 6 deceptive stories as deceptive, but misclassified 3 deceptive stories as true.\n",
    "\n",
    "The model correctly classified 7 true stories as true, but misclassified 4 true stories as deceptive.\n",
    "\n",
    "The model has slightly better performance identifying deceptive stories (Class 0) compared to true stories. Misclassification is balanced, suggesting the features may not fully capture patterns distinguishing deceptive and true stories.\n"
   ]
  },
  {
   "cell_type": "markdown",
   "source": [
    "# 7 Conclusions\n",
    "\n",
    "1. Strengths of Decision Tree\n",
    "\n",
    "Interpretability: Provides clear insights into how features contribute to decisions, helping explain classification results.\n",
    "\n",
    "Handles Small Datasets: Performs reasonably well even with only 100 samples split into 20 test samples.\n",
    "\n",
    "Feature Flexibility: Handles both numerical and categorical features, such as MFCCs and Language Encoding.\n",
    "\n",
    "2. Limitations and Areas for Improvement\n",
    "\n",
    "Class Imbalance Handling: With only 20 test samples, minor imbalances between classes (9 deceptive vs. 11 true) could impact results. Stratified sampling was used, but larger datasets would provide more robust performance.\n",
    "\n",
    "Misclassification for Deceptive Stories: The model misclassifies 44% of deceptive stories, highlighting the need for features that better capture deception cues.\n",
    "\n",
    "Feature Dependence: Current features, including MFCCs and spectral features, may not fully capture linguistic or psychological cues related to deception.\n",
    "\n",
    "3. Strengths of Random Forest\n",
    "\n",
    "Balanced Generalization: The Random Forest demonstrates balanced performance across both classes, as seen in its macro and weighted averages (both 0.65). It avoids excessive bias toward either class.\n",
    "\n",
    "Improved Recall for Deceptive Stories: With a recall of 67% for deceptive stories, the Random Forest performs better than the Decision Tree in detecting deceptive patterns. This suggests that the ensemble approach is more effective at identifying subtle cues in deceptive speech.\n",
    "\n",
    "4. Limitations and Areas for Improvement\n",
    "\n",
    "Overfitting: The lower testing accuracy (65%) indicates that Random Forest may have overfitted to the training data. The small dataset size reduced the variability of the bootstrapped samples, making the individual trees too similar, which in turn impacted the overall model's generalization ability.\n",
    "\n",
    "Misclassification for True Stories: Random Forest misclassified some true stories as deceptive, indicating that the model struggled with distinguishing between the two classes.\n",
    "\n",
    "Small Dataset Impact: The small training dataset (80 samples) limited the diversity of the bootstrapped samples for each tree, resulting in overly similar trees and reducing the ensemble's effectiveness.\n",
    "\n",
    "5. Suggestions\n",
    "\n",
    "Feature Engineering: Enhancing the feature set by including additional prosodic, linguistic, and temporal features (e.g., speech rate, pitch variation, sentiment analysis) could improve the models' ability to detect deception. Features capturing behavioral patterns associated with truthfulness and deception would likely reduce misclassification and improve overall accuracy.\n",
    "\n",
    "Data Augmentation: Given the small dataset, applying data augmentation techniques (e.g., time-stretching, pitch-shifting, noise injection) could help increase the dataset's size and variability, potentially reducing overfitting and improving generalization. Generating synthetic samples using SMOTE could also address class imbalance.\n",
    "\n",
    "Alternative Models: Exploring alternative models such as Gradient Boosting (e.g., XGBoost, LightGBM) could be beneficial, as these models often perform better with smaller datasets. Additionally, stacking models that combine multiple classifiers might improve performance by leveraging the strengths of different algorithms.\n",
    "\n",
    "Dataset Expansion: Collecting more diverse data or expanding the dataset with varied speech contexts (e.g., different speakers, languages, or environmental conditions) would help reduce the impact of overfitting and improve the models' robustness and generalization ability.\n",
    "\n",
    "6. Conclusion\n",
    "\n",
    "Both the Decision Tree and Random Forest classifiers showed promise for detecting deception in narrated stories. The Decision Tree offered higher accuracy and was easier to interpret but struggled with high misclassification for deceptive stories. The Random Forest provided more balanced performance and improved recall for deception but suffered from overfitting due to the small dataset. Future improvements should focus on enhancing feature engineering, expanding the dataset, and optimizing model complexity to prevent overfitting and improve generalization. By leveraging these strategies, both models could be significantly improved to create a more robust and scalable deception detection system."
   ],
   "metadata": {
    "id": "fSrJCR_cekPO"
   }
  },
  {
   "metadata": {},
   "cell_type": "markdown",
   "source": [
    "# 8 References\n",
    "\n",
    "scikit-learn: https://scikit-learn.org/\n",
    "\n",
    "librosa: https://librosa.org/\n",
    "\n",
    "Deception Dataset: https://github.com/CBU5201Datasets/Deception"
   ]
  }
 ]
}
